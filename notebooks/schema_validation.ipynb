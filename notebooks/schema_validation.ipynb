{
  "nbformat": 4,
  "nbformat_minor": 0,
  "metadata": {
    "colab": {
      "provenance": [],
      "gpuType": "T4",
      "authorship_tag": "ABX9TyNXMGGkiyNEA3C7K5GzOixq",
      "include_colab_link": true
    },
    "kernelspec": {
      "name": "python3",
      "display_name": "Python 3"
    },
    "language_info": {
      "name": "python"
    },
    "accelerator": "GPU"
  },
  "cells": [
    {
      "cell_type": "markdown",
      "metadata": {
        "id": "view-in-github",
        "colab_type": "text"
      },
      "source": [
        "<a href=\"https://colab.research.google.com/github/thanhvietnguyen/Titanic-ML-project/blob/main/notebooks/schema_validation.ipynb\" target=\"_parent\"><img src=\"https://colab.research.google.com/assets/colab-badge.svg\" alt=\"Open In Colab\"/></a>"
      ]
    },
    {
      "cell_type": "code",
      "source": [
        "pip install pandera"
      ],
      "metadata": {
        "id": "wLp33SQgZ2QS",
        "outputId": "c8f62931-48cc-4b2e-f88f-521bb4398832",
        "colab": {
          "base_uri": "https://localhost:8080/"
        }
      },
      "execution_count": 2,
      "outputs": [
        {
          "output_type": "stream",
          "name": "stdout",
          "text": [
            "Collecting pandera\n",
            "  Downloading pandera-0.24.0-py3-none-any.whl.metadata (10 kB)\n",
            "Requirement already satisfied: packaging>=20.0 in /usr/local/lib/python3.11/dist-packages (from pandera) (24.2)\n",
            "Requirement already satisfied: pydantic in /usr/local/lib/python3.11/dist-packages (from pandera) (2.11.7)\n",
            "Requirement already satisfied: typeguard in /usr/local/lib/python3.11/dist-packages (from pandera) (4.4.4)\n",
            "Requirement already satisfied: typing_extensions in /usr/local/lib/python3.11/dist-packages (from pandera) (4.14.0)\n",
            "Collecting typing_inspect>=0.6.0 (from pandera)\n",
            "  Downloading typing_inspect-0.9.0-py3-none-any.whl.metadata (1.5 kB)\n",
            "Collecting mypy-extensions>=0.3.0 (from typing_inspect>=0.6.0->pandera)\n",
            "  Downloading mypy_extensions-1.1.0-py3-none-any.whl.metadata (1.1 kB)\n",
            "Requirement already satisfied: annotated-types>=0.6.0 in /usr/local/lib/python3.11/dist-packages (from pydantic->pandera) (0.7.0)\n",
            "Requirement already satisfied: pydantic-core==2.33.2 in /usr/local/lib/python3.11/dist-packages (from pydantic->pandera) (2.33.2)\n",
            "Requirement already satisfied: typing-inspection>=0.4.0 in /usr/local/lib/python3.11/dist-packages (from pydantic->pandera) (0.4.1)\n",
            "Downloading pandera-0.24.0-py3-none-any.whl (267 kB)\n",
            "\u001b[2K   \u001b[90m━━━━━━━━━━━━━━━━━━━━━━━━━━━━━━━━━━━━━━━━\u001b[0m \u001b[32m267.1/267.1 kB\u001b[0m \u001b[31m5.0 MB/s\u001b[0m eta \u001b[36m0:00:00\u001b[0m\n",
            "\u001b[?25hDownloading typing_inspect-0.9.0-py3-none-any.whl (8.8 kB)\n",
            "Downloading mypy_extensions-1.1.0-py3-none-any.whl (5.0 kB)\n",
            "Installing collected packages: mypy-extensions, typing_inspect, pandera\n",
            "Successfully installed mypy-extensions-1.1.0 pandera-0.24.0 typing_inspect-0.9.0\n"
          ]
        }
      ]
    },
    {
      "cell_type": "code",
      "execution_count": 6,
      "metadata": {
        "id": "BkAqIPoAYuFz"
      },
      "outputs": [],
      "source": [
        "#import pandera as pa\n",
        "import pandera.pandas as pa\n",
        "from pandera import Column, DataFrameSchema, Check\n",
        "import pandas as pd"
      ]
    },
    {
      "cell_type": "code",
      "source": [
        "# Đọc lại dữ liệu\n",
        "df = pd.read_csv(\"https://raw.githubusercontent.com/thanhvietnguyen/Titanic-ML-project/refs/heads/main/data/train.csv\")"
      ],
      "metadata": {
        "id": "dPTLcI2_aI9M"
      },
      "execution_count": 7,
      "outputs": []
    },
    {
      "cell_type": "code",
      "source": [
        "# Định nghĩa schema cho dữ liệu Titanic\n",
        "schema = DataFrameSchema({\n",
        "    \"PassengerId\": Column(int, Check.gt(0)),\n",
        "    \"Survived\": Column(int, Check.isin([0, 1])),\n",
        "    \"Pclass\": Column(int, Check.isin([1, 2, 3])),\n",
        "    \"Name\": Column(str),\n",
        "    \"Sex\": Column(str, Check.isin([\"male\", \"female\"])),\n",
        "    \"Age\": Column(float, nullable=True, checks=Check.ge(0)),\n",
        "    \"SibSp\": Column(int, Check.ge(0)),\n",
        "    \"Parch\": Column(int, Check.ge(0)),\n",
        "    \"Ticket\": Column(str),\n",
        "    \"Fare\": Column(float, Check.ge(0)),\n",
        "    \"Cabin\": Column(str, nullable=True),\n",
        "    \"Embarked\": Column(str, nullable=True, checks=Check.isin([\"C\", \"Q\", \"S\"]))\n",
        "})"
      ],
      "metadata": {
        "id": "jty1FyVpaRQj"
      },
      "execution_count": 8,
      "outputs": []
    },
    {
      "cell_type": "code",
      "source": [
        "# Kiểm định dữ liệu\n",
        "try:\n",
        "    schema.validate(df)\n",
        "    print(\"Dữ liệu hợp lệ theo schema!\")\n",
        "except pa.errors.SchemaError as e:\n",
        "    print(\"Schema Error:\")\n",
        "    print(e)"
      ],
      "metadata": {
        "id": "hIdsnER7aua-",
        "outputId": "61af8b09-de34-499f-b884-c5cb7dd13b28",
        "colab": {
          "base_uri": "https://localhost:8080/"
        }
      },
      "execution_count": 10,
      "outputs": [
        {
          "output_type": "stream",
          "name": "stdout",
          "text": [
            "Dữ liệu hợp lệ theo schema!\n"
          ]
        }
      ]
    }
  ]
}