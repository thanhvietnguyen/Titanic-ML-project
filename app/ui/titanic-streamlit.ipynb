{
  "nbformat": 4,
  "nbformat_minor": 0,
  "metadata": {
    "colab": {
      "provenance": [],
      "gpuType": "T4",
      "authorship_tag": "ABX9TyPFWnygrNs0Lh5bKpSwgq0q",
      "include_colab_link": true
    },
    "kernelspec": {
      "name": "python3",
      "display_name": "Python 3"
    },
    "language_info": {
      "name": "python"
    },
    "accelerator": "GPU"
  },
  "cells": [
    {
      "cell_type": "markdown",
      "metadata": {
        "id": "view-in-github",
        "colab_type": "text"
      },
      "source": [
        "<a href=\"https://colab.research.google.com/github/thanhvietnguyen/Titanic-ML-project/blob/master/app/ui/titanic-streamlit.ipynb\" target=\"_parent\"><img src=\"https://colab.research.google.com/assets/colab-badge.svg\" alt=\"Open In Colab\"/></a>"
      ]
    },
    {
      "cell_type": "code",
      "execution_count": null,
      "metadata": {
        "id": "BkAqIPoAYuFz"
      },
      "outputs": [],
      "source": [
        "import streamlit as st\n",
        "import requests\n",
        "\n",
        "st.title(\"Titanic Survival Prediction\")\n",
        "st.write(\"Nhập thông tin hành khách và nhận dự đoán liệu họ có sống sót hay không.\")\n",
        "\n",
        "# ===== Nhập dữ liệu từ người dùng =====\n",
        "sex = st.selectbox(\"Giới tính\", [\"male\", \"female\"])\n",
        "pclass = st.selectbox(\"Hạng vé (Pclass)\", [1, 2, 3])\n",
        "age = st.slider(\"Tuổi\", min_value=0, max_value=100, value=30)\n",
        "sibsp = st.number_input(\"Số anh chị em/vợ chồng đi cùng (SibSp)\", min_value=0, max_value=10, value=0)\n",
        "parch = st.number_input(\"Số cha mẹ/con đi cùng (Parch)\", min_value=0, max_value=10, value=0)\n",
        "fare = st.number_input(\"Giá vé (Fare)\", min_value=0.0, value=30.0)\n",
        "embarked = st.selectbox(\"Nơi lên tàu (Embarked)\", [\"C\", \"Q\", \"S\"])\n",
        "\n",
        "# ===== Gửi yêu cầu đến FastAPI =====\n",
        "if st.button(\"Dự đoán\"):\n",
        "    input_data = {\n",
        "        \"Pclass\": pclass,\n",
        "        \"Sex\": sex,\n",
        "        \"Age\": age,\n",
        "        \"SibSp\": sibsp,\n",
        "        \"Parch\": parch,\n",
        "        \"Fare\": fare,\n",
        "        \"Embarked\": embarked\n",
        "    }\n",
        "\n",
        "    try:\n",
        "        response = requests.post(\"https://titanic-fastapi.onrender.com\", json=input_data)\n",
        "        result = response.json()\n",
        "\n",
        "        if result[\"prediction\"] == 1:\n",
        "            st.success(f\"Hành khách **có khả năng sống sót**, xác suất: {result['probability_survival']:.2%}\")\n",
        "        else:\n",
        "            st.error(f\"Hành khách **khó sống sót**, xác suất sống: {result['probability_survival']:.2%}\")\n",
        "\n",
        "    except Exception as e:\n",
        "        st.error(f\"Lỗi khi gọi API: {e}\")\n"
      ]
    }
  ]
}