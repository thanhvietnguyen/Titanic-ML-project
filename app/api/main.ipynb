{
  "nbformat": 4,
  "nbformat_minor": 0,
  "metadata": {
    "colab": {
      "provenance": [],
      "gpuType": "T4",
      "authorship_tag": "ABX9TyP3n61X1Wk2KyPASe07/jKm",
      "include_colab_link": true
    },
    "kernelspec": {
      "name": "python3",
      "display_name": "Python 3"
    },
    "language_info": {
      "name": "python"
    },
    "accelerator": "GPU"
  },
  "cells": [
    {
      "cell_type": "markdown",
      "metadata": {
        "id": "view-in-github",
        "colab_type": "text"
      },
      "source": [
        "<a href=\"https://colab.research.google.com/github/thanhvietnguyen/Titanic-ML-project/blob/master/app/api/main.ipynb\" target=\"_parent\"><img src=\"https://colab.research.google.com/assets/colab-badge.svg\" alt=\"Open In Colab\"/></a>"
      ]
    },
    {
      "cell_type": "code",
      "execution_count": 1,
      "metadata": {
        "id": "BkAqIPoAYuFz",
        "colab": {
          "base_uri": "https://localhost:8080/"
        },
        "outputId": "be57be31-aa92-41b7-a37d-4408a26297b2"
      },
      "outputs": [
        {
          "output_type": "stream",
          "name": "stdout",
          "text": [
            "Đang tải mô hình từ GitHub...\n",
            "Mô hình đã tải thành công.\n"
          ]
        }
      ],
      "source": [
        "from fastapi import FastAPI\n",
        "from pydantic import BaseModel\n",
        "import pandas as pd\n",
        "import joblib\n",
        "# Using the BytesIO you create a file object out of the response that you get from GitHub\n",
        "from io import BytesIO\n",
        "import requests\n",
        "\n",
        "app = FastAPI()\n",
        "\n",
        "# Load mô hình\n",
        "mLink = 'https://github.com/thanhvietnguyen/Titanic-ML-project/blob/master/models/best_model.pkl?raw=true'\n",
        "try:\n",
        "    print(\"Đang tải mô hình từ GitHub...\")\n",
        "    response = requests.get(mLink)\n",
        "    response.raise_for_status()  # Gây lỗi nếu không=200\n",
        "    mfile = BytesIO(response.content)\n",
        "    model = joblib.load(mfile)\n",
        "    print(\"Mô hình đã tải thành công.\")\n",
        "except Exception as e:\n",
        "    print(\"Lỗi khi tải mô hình:\", str(e))\n",
        "\n",
        "class Passenger(BaseModel):\n",
        "    Pclass: int\n",
        "    Sex: str\n",
        "    Age: float\n",
        "    SibSp: int\n",
        "    Parch: int\n",
        "    Fare: float\n",
        "    Embarked: str\n",
        "\n",
        "@app.get(\"/\")\n",
        "def read_root():\n",
        "    return {\"message\": \"Titanic Prediction API is online!\"}\n",
        "\n",
        "@app.post(\"/predict\")\n",
        "def predict(passenger: Passenger):\n",
        "  if model is None:\n",
        "    return {\"Error\": \"Model chưa được tải thành công\"}\n",
        "\n",
        "  try:\n",
        "    family_size = passenger.SibSp + passenger.Parch + 1\n",
        "    input_df = pd.DataFrame([{\n",
        "            \"Age\": passenger.Age,\n",
        "            \"Fare\": passenger.Fare,\n",
        "            \"FamilySize\": family_size,\n",
        "            \"Sex\": passenger.Sex,\n",
        "            \"Embarked\": passenger.Embarked,\n",
        "            \"Pclass\": passenger.Pclass\n",
        "        }])\n",
        "    print(\"Dữ liệu đầu vào:\\n\", input_df)\n",
        "    pred = model.predict(input_df)[0]\n",
        "    prob = model.predict_proba(input_df)[0][1]\n",
        "\n",
        "    return {\n",
        "        \"prediction\": int(pred),\n",
        "        \"probability_survival\": round(prob, 4)\n",
        "    }\n",
        "  except Exception as e:\n",
        "        print(\"Lỗi dự đoán:\", str(e))\n",
        "        return {\"Error\": f\"Lỗi khi xử lý dự đoán: {str(e)}\"}"
      ]
    }
  ]
}