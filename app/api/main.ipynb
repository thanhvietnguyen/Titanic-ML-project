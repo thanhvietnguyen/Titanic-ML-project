{
  "nbformat": 4,
  "nbformat_minor": 0,
  "metadata": {
    "colab": {
      "provenance": [],
      "gpuType": "T4",
      "authorship_tag": "ABX9TyNMkkqYeYjlkbz7W8qd0Ay2",
      "include_colab_link": true
    },
    "kernelspec": {
      "name": "python3",
      "display_name": "Python 3"
    },
    "language_info": {
      "name": "python"
    },
    "accelerator": "GPU"
  },
  "cells": [
    {
      "cell_type": "markdown",
      "metadata": {
        "id": "view-in-github",
        "colab_type": "text"
      },
      "source": [
        "<a href=\"https://colab.research.google.com/github/thanhvietnguyen/Titanic-ML-project/blob/master/app/api/main.ipynb\" target=\"_parent\"><img src=\"https://colab.research.google.com/assets/colab-badge.svg\" alt=\"Open In Colab\"/></a>"
      ]
    },
    {
      "cell_type": "code",
      "execution_count": 1,
      "metadata": {
        "id": "BkAqIPoAYuFz"
      },
      "outputs": [],
      "source": [
        "from fastapi import FastAPI\n",
        "from pydantic import BaseModel\n",
        "import joblib\n",
        "# Using the BytesIO you create a file object out of the response that you get from GitHub\n",
        "from io import BytesIO\n",
        "import requests\n",
        "\n",
        "app = FastAPI()\n",
        "\n",
        "# Load mô hình\n",
        "mLink = 'https://github.com/thanhvietnguyen/Titanic-ML-project/blob/master/models/best_model.pkl?raw=true'\n",
        "mfile = BytesIO(requests.get(mLink).content)\n",
        "model = joblib.load(mfile)\n",
        "\n",
        "class Passenger(BaseModel):\n",
        "    Pclass: int\n",
        "    Sex: str\n",
        "    Age: float\n",
        "    SibSp: int\n",
        "    Parch: int\n",
        "    Fare: float\n",
        "    Embarked: str\n",
        "\n",
        "@app.get(\"/\")\n",
        "def read_root():\n",
        "    return {\"message\": \"Titanic Prediction API is online!\"}\n",
        "\n",
        "@app.post(\"/predict\")\n",
        "def predict(passenger: Passenger):\n",
        "    family_size = passenger.SibSp + passenger.Parch + 1\n",
        "    input_data = [[\n",
        "        passenger.Age,\n",
        "        passenger.Fare,\n",
        "        family_size,\n",
        "        passenger.Sex,\n",
        "        passenger.Embarked,\n",
        "        passenger.Pclass\n",
        "    ]]\n",
        "\n",
        "    pred = model.predict(input_data)[0]\n",
        "    prob = model.predict_proba(input_data)[0][1]\n",
        "\n",
        "    return {\n",
        "        \"prediction\": int(pred),\n",
        "        \"probability_survival\": round(prob, 4)\n",
        "    }"
      ]
    }
  ]
}