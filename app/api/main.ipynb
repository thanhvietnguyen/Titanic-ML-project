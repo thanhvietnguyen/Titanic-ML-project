{
  "nbformat": 4,
  "nbformat_minor": 0,
  "metadata": {
    "colab": {
      "provenance": [],
      "gpuType": "T4",
      "authorship_tag": "ABX9TyPLfKCJMCQ4+acwk243+lRF",
      "include_colab_link": true
    },
    "kernelspec": {
      "name": "python3",
      "display_name": "Python 3"
    },
    "language_info": {
      "name": "python"
    },
    "accelerator": "GPU"
  },
  "cells": [
    {
      "cell_type": "markdown",
      "metadata": {
        "id": "view-in-github",
        "colab_type": "text"
      },
      "source": [
        "<a href=\"https://colab.research.google.com/github/thanhvietnguyen/Titanic-ML-project/blob/master/app/api/main.ipynb\" target=\"_parent\"><img src=\"https://colab.research.google.com/assets/colab-badge.svg\" alt=\"Open In Colab\"/></a>"
      ]
    },
    {
      "cell_type": "code",
      "execution_count": null,
      "metadata": {
        "id": "BkAqIPoAYuFz",
        "colab": {
          "base_uri": "https://localhost:8080/"
        },
        "outputId": "d84425e8-52ec-475b-8a6b-cfc139ad17ed"
      },
      "outputs": [
        {
          "output_type": "stream",
          "name": "stdout",
          "text": [
            "Đang tải mô hình từ GitHub...\n",
            "Mô hình đã tải thành công.\n"
          ]
        }
      ],
      "source": [
        "from fastapi import FastAPI\n",
        "from pydantic import BaseModel\n",
        "import joblib\n",
        "# Using the BytesIO you create a file object out of the response that you get from GitHub\n",
        "from io import BytesIO\n",
        "import requests\n",
        "\n",
        "app = FastAPI()\n",
        "\n",
        "# Load mô hình\n",
        "mLink = 'https://github.com/thanhvietnguyen/Titanic-ML-project/blob/master/models/best_model.pkl?raw=true'\n",
        "try:\n",
        "    print(\"Đang tải mô hình từ GitHub...\")\n",
        "    response = requests.get(mLink)\n",
        "    response.raise_for_status()  # Gây lỗi nếu không=200\n",
        "    mfile = BytesIO(response.content)\n",
        "    model = joblib.load(mfile)\n",
        "    print(\"Mô hình đã tải thành công.\")\n",
        "except Exception as e:\n",
        "    print(\"Lỗi khi tải mô hình:\", str(e))\n",
        "\n",
        "class Passenger(BaseModel):\n",
        "    Pclass: int\n",
        "    Sex: str\n",
        "    Age: float\n",
        "    SibSp: int\n",
        "    Parch: int\n",
        "    Fare: float\n",
        "    Embarked: str\n",
        "\n",
        "@app.get(\"/\")\n",
        "def read_root():\n",
        "    return {\"message\": \"Titanic Prediction API is online!\"}\n",
        "\n",
        "@app.post(\"/predict\")\n",
        "def predict(passenger: Passenger):\n",
        "    family_size = passenger.SibSp + passenger.Parch + 1\n",
        "    input_data = [[\n",
        "        passenger.Age,\n",
        "        passenger.Fare,\n",
        "        family_size,\n",
        "        passenger.Sex,\n",
        "        passenger.Embarked,\n",
        "        passenger.Pclass\n",
        "    ]]\n",
        "\n",
        "    pred = model.predict(input_data)[0]\n",
        "    prob = model.predict_proba(input_data)[0][1]\n",
        "\n",
        "    return {\n",
        "        \"prediction\": int(pred),\n",
        "        \"probability_survival\": round(prob, 4)\n",
        "    }"
      ]
    }
  ]
}