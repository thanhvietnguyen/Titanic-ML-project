{
  "nbformat": 4,
  "nbformat_minor": 0,
  "metadata": {
    "colab": {
      "provenance": [],
      "gpuType": "T4",
      "authorship_tag": "ABX9TyMtQYxCddDsyH66wK0SXyNs",
      "include_colab_link": true
    },
    "kernelspec": {
      "name": "python3",
      "display_name": "Python 3"
    },
    "language_info": {
      "name": "python"
    },
    "accelerator": "GPU"
  },
  "cells": [
    {
      "cell_type": "markdown",
      "metadata": {
        "id": "view-in-github",
        "colab_type": "text"
      },
      "source": [
        "<a href=\"https://colab.research.google.com/github/thanhvietnguyen/Titanic-ML-project/blob/main/src/training_evaluate.ipynb\" target=\"_parent\"><img src=\"https://colab.research.google.com/assets/colab-badge.svg\" alt=\"Open In Colab\"/></a>"
      ]
    },
    {
      "cell_type": "markdown",
      "source": [
        "# Model Training"
      ],
      "metadata": {
        "id": "zrhXmmWyptzJ"
      }
    },
    {
      "cell_type": "code",
      "source": [
        "import pandas as pd\n",
        "import numpy as np\n",
        "\n",
        "from sklearn.linear_model import LogisticRegression\n",
        "from sklearn.ensemble import RandomForestClassifier\n",
        "from sklearn.model_selection import train_test_split\n",
        "from sklearn.metrics import accuracy_score, precision_score, recall_score, f1_score, confusion_matrix, classification_report\n",
        "\n",
        "import joblib"
      ],
      "metadata": {
        "id": "-c4HuoI4qEJI"
      },
      "execution_count": 1,
      "outputs": []
    },
    {
      "cell_type": "code",
      "source": [
        "# ==== Đọc lại và chuẩn bị dữ liệu ====\n",
        "df = pd.read_csv(\"https://raw.githubusercontent.com/thanhvietnguyen/Titanic-ML-project/refs/heads/main/data/train.csv\")\n",
        "df = df.drop(columns=[\"PassengerId\", \"Name\", \"Ticket\", \"Cabin\"])\n",
        "\n",
        "df['FamilySize'] = df['SibSp'] + df['Parch'] + 1\n",
        "\n",
        "X = df.drop(columns=[\"Survived\"])\n",
        "y = df[\"Survived\"]"
      ],
      "metadata": {
        "id": "yhaRlQjhqSjI"
      },
      "execution_count": 2,
      "outputs": []
    },
    {
      "cell_type": "code",
      "source": [
        "# ==== Xây lại preprocessor ====\n",
        "from sklearn.pipeline import Pipeline\n",
        "from sklearn.compose import ColumnTransformer\n",
        "from sklearn.preprocessing import OneHotEncoder, StandardScaler\n",
        "from sklearn.impute import SimpleImputer\n",
        "\n",
        "numeric_features = [\"Age\", \"Fare\", \"FamilySize\"]\n",
        "categorical_features = [\"Sex\", \"Embarked\", \"Pclass\"]\n",
        "\n",
        "numeric_pipeline = Pipeline([\n",
        "    ('imputer', SimpleImputer(strategy=\"median\")),\n",
        "    ('scaler', StandardScaler())\n",
        "])\n",
        "\n",
        "categorical_pipeline = Pipeline([\n",
        "    ('imputer', SimpleImputer(strategy=\"most_frequent\")),\n",
        "    ('encoder', OneHotEncoder(handle_unknown='ignore'))\n",
        "])\n",
        "\n",
        "preprocessor = ColumnTransformer([\n",
        "    ('num', numeric_pipeline, numeric_features),\n",
        "    ('cat', categorical_pipeline, categorical_features)\n",
        "])\n"
      ],
      "metadata": {
        "id": "iHTVWbc6qeJR"
      },
      "execution_count": 3,
      "outputs": []
    },
    {
      "cell_type": "code",
      "source": [
        "# ==== Chia tập train/test ====\n",
        "X_train, X_test, y_train, y_test = train_test_split(X, y, test_size=0.2, random_state=42)"
      ],
      "metadata": {
        "id": "LYf8EWnNqwZQ"
      },
      "execution_count": 4,
      "outputs": []
    },
    {
      "cell_type": "code",
      "source": [
        "# ==== Train Logistic Regression ====\n",
        "from sklearn.pipeline import make_pipeline\n",
        "\n",
        "logreg_model = make_pipeline(preprocessor, LogisticRegression(max_iter=1000))\n",
        "logreg_model.fit(X_train, y_train)\n",
        "y_pred_lr = logreg_model.predict(X_test)"
      ],
      "metadata": {
        "id": "XvZKS8b2q6QI"
      },
      "execution_count": 5,
      "outputs": []
    },
    {
      "cell_type": "code",
      "source": [
        "# ==== Train Random Forest ====\n",
        "rf_model = make_pipeline(preprocessor, RandomForestClassifier(n_estimators=100, random_state=42))\n",
        "rf_model.fit(X_train, y_train)\n",
        "y_pred_rf = rf_model.predict(X_test)"
      ],
      "metadata": {
        "id": "vS0oLH5MrDph"
      },
      "execution_count": 6,
      "outputs": []
    },
    {
      "cell_type": "markdown",
      "source": [
        "# Evaluate Model"
      ],
      "metadata": {
        "id": "E_IenCjDp3YQ"
      }
    },
    {
      "cell_type": "code",
      "source": [
        "# ==== Đánh giá 2 mô hình ====\n",
        "def evaluate_model(name, y_true, y_pred):\n",
        "    print(f\"🔍 Đánh giá mô hình: {name}\")\n",
        "    print(\"Accuracy:\", accuracy_score(y_true, y_pred))\n",
        "    print(\"Precision:\", precision_score(y_true, y_pred))\n",
        "    print(\"Recall:\", recall_score(y_true, y_pred))\n",
        "    print(\"F1 Score:\", f1_score(y_true, y_pred))\n",
        "    print(\"Confusion Matrix:\\n\", confusion_matrix(y_true, y_pred))\n",
        "    print(\"-\" * 50)\n",
        "\n",
        "evaluate_model(\"Logistic Regression\", y_test, y_pred_lr)\n",
        "evaluate_model(\"Random Forest\", y_test, y_pred_rf)"
      ],
      "metadata": {
        "id": "8cxdrDU3rF6g",
        "outputId": "ac3c624e-c64f-4f53-8015-1325fb8ac8eb",
        "colab": {
          "base_uri": "https://localhost:8080/"
        }
      },
      "execution_count": 7,
      "outputs": [
        {
          "output_type": "stream",
          "name": "stdout",
          "text": [
            "🔍 Đánh giá mô hình: Logistic Regression\n",
            "Accuracy: 0.7988826815642458\n",
            "Precision: 0.7794117647058824\n",
            "Recall: 0.7162162162162162\n",
            "F1 Score: 0.7464788732394366\n",
            "Confusion Matrix:\n",
            " [[90 15]\n",
            " [21 53]]\n",
            "--------------------------------------------------\n",
            "🔍 Đánh giá mô hình: Random Forest\n",
            "Accuracy: 0.8100558659217877\n",
            "Precision: 0.7777777777777778\n",
            "Recall: 0.7567567567567568\n",
            "F1 Score: 0.7671232876712328\n",
            "Confusion Matrix:\n",
            " [[89 16]\n",
            " [18 56]]\n",
            "--------------------------------------------------\n"
          ]
        }
      ]
    },
    {
      "cell_type": "code",
      "source": [
        "# ==== Lưu mô hình tốt nhất ====\n",
        "joblib.dump(rf_model, \"best_model.pkl\")\n",
        "print(\"Đã lưu mô hình tốt nhất vào best_model.pkl\")"
      ],
      "metadata": {
        "id": "MigEb_x-rUzC",
        "outputId": "747c7264-372e-459a-ff46-4b9588a85b70",
        "colab": {
          "base_uri": "https://localhost:8080/"
        }
      },
      "execution_count": 20,
      "outputs": [
        {
          "output_type": "stream",
          "name": "stdout",
          "text": [
            "Đã lưu mô hình tốt nhất vào best_model.pkl\n"
          ]
        }
      ]
    }
  ]
}