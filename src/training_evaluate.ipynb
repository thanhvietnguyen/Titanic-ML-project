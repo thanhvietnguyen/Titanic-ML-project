{
  "nbformat": 4,
  "nbformat_minor": 0,
  "metadata": {
    "colab": {
      "provenance": [],
      "gpuType": "T4",
      "authorship_tag": "ABX9TyOv/giKovDcMckl8qbuU+Dd",
      "include_colab_link": true
    },
    "kernelspec": {
      "name": "python3",
      "display_name": "Python 3"
    },
    "language_info": {
      "name": "python"
    },
    "accelerator": "GPU"
  },
  "cells": [
    {
      "cell_type": "markdown",
      "metadata": {
        "id": "view-in-github",
        "colab_type": "text"
      },
      "source": [
        "<a href=\"https://colab.research.google.com/github/thanhvietnguyen/Titanic-ML-project/blob/master/src/training_evaluate.ipynb\" target=\"_parent\"><img src=\"https://colab.research.google.com/assets/colab-badge.svg\" alt=\"Open In Colab\"/></a>"
      ]
    },
    {
      "cell_type": "markdown",
      "source": [
        "# Model Training"
      ],
      "metadata": {
        "id": "zrhXmmWyptzJ"
      }
    },
    {
      "cell_type": "code",
      "source": [
        "import pandas as pd\n",
        "import numpy as np\n",
        "\n",
        "from sklearn.linear_model import LogisticRegression\n",
        "from sklearn.ensemble import RandomForestClassifier\n",
        "from sklearn.model_selection import train_test_split\n",
        "from sklearn.metrics import accuracy_score, precision_score, recall_score, f1_score, confusion_matrix, classification_report\n",
        "\n",
        "import joblib"
      ],
      "metadata": {
        "id": "-c4HuoI4qEJI"
      },
      "execution_count": 11,
      "outputs": []
    },
    {
      "cell_type": "code",
      "source": [
        "# Đọc và chuẩn bị dữ liệu\n",
        "df = pd.read_csv(\"https://raw.githubusercontent.com/thanhvietnguyen/Titanic-ML-project/refs/heads/master/data/train.csv\")\n",
        "df = df.drop(columns=[\"PassengerId\", \"Name\", \"Ticket\", \"Cabin\"])  #Loại 4 biến không liên quan\n",
        "\n",
        "df['FamilySize'] = df['SibSp'] + df['Parch'] + 1  #New fearture: Gộp số người thân đi cùng + bản thân\n",
        "\n",
        "X = df.drop(columns=[\"Survived\"]) #Loại bỏ Label khỏi ma trận X\n",
        "y = df[\"Survived\"]                #Gán label cho ma trận y"
      ],
      "metadata": {
        "id": "yhaRlQjhqSjI"
      },
      "execution_count": 12,
      "outputs": []
    },
    {
      "cell_type": "code",
      "source": [
        "# Xây lại preprocessor\n",
        "from sklearn.pipeline import Pipeline\n",
        "from sklearn.compose import ColumnTransformer\n",
        "from sklearn.preprocessing import OneHotEncoder, StandardScaler\n",
        "from sklearn.impute import SimpleImputer\n",
        "\n",
        "numeric_features = [\"Age\", \"Fare\", \"FamilySize\"]\n",
        "categorical_features = [\"Sex\", \"Embarked\", \"Pclass\"]\n",
        "\n",
        "numeric_pipeline = Pipeline([\n",
        "    ('imputer', SimpleImputer(strategy=\"median\")),\n",
        "    ('scaler', StandardScaler())\n",
        "])\n",
        "\n",
        "categorical_pipeline = Pipeline([\n",
        "    ('imputer', SimpleImputer(strategy=\"most_frequent\")),\n",
        "    ('encoder', OneHotEncoder(handle_unknown='ignore'))\n",
        "])\n",
        "\n",
        "preprocessor = ColumnTransformer([\n",
        "    ('num', numeric_pipeline, numeric_features),\n",
        "    ('cat', categorical_pipeline, categorical_features)\n",
        "])\n"
      ],
      "metadata": {
        "id": "iHTVWbc6qeJR"
      },
      "execution_count": 13,
      "outputs": []
    },
    {
      "cell_type": "code",
      "source": [
        "# Chia tập train/test 80/20\n",
        "X_train, X_test, y_train, y_test = train_test_split(X, y, test_size=0.2, random_state=42)"
      ],
      "metadata": {
        "id": "LYf8EWnNqwZQ"
      },
      "execution_count": 14,
      "outputs": []
    },
    {
      "cell_type": "code",
      "source": [
        "# Train Logistic Regression\n",
        "from sklearn.pipeline import make_pipeline\n",
        "\n",
        "logreg_model = make_pipeline(preprocessor, LogisticRegression(max_iter=1000))\n",
        "logreg_model.fit(X_train, y_train)\n",
        "y_pred_lr = logreg_model.predict(X_test)"
      ],
      "metadata": {
        "id": "XvZKS8b2q6QI"
      },
      "execution_count": 15,
      "outputs": []
    },
    {
      "cell_type": "code",
      "source": [
        "# Train Random Forest\n",
        "rf_model = make_pipeline(preprocessor, RandomForestClassifier(n_estimators=100, random_state=42))\n",
        "rf_model.fit(X_train, y_train)\n",
        "y_pred_rf = rf_model.predict(X_test)"
      ],
      "metadata": {
        "id": "vS0oLH5MrDph"
      },
      "execution_count": 16,
      "outputs": []
    },
    {
      "cell_type": "markdown",
      "source": [
        "# Evaluate Model"
      ],
      "metadata": {
        "id": "E_IenCjDp3YQ"
      }
    },
    {
      "cell_type": "code",
      "source": [
        "# Đánh giá 2 mô hình\n",
        "def evaluate_model(name, y_true, y_pred):\n",
        "    print(f\"Đánh giá mô hình: {name}\")\n",
        "    print(\"Accuracy:\", accuracy_score(y_true, y_pred))\n",
        "    print(\"Precision:\", precision_score(y_true, y_pred))\n",
        "    print(\"Recall:\", recall_score(y_true, y_pred))\n",
        "    print(\"F1 Score:\", f1_score(y_true, y_pred))\n",
        "    print(\"Confusion Matrix:\\n\", confusion_matrix(y_true, y_pred))\n",
        "    print(\"-\" * 50)\n",
        "\n",
        "evaluate_model(\"Logistic Regression\", y_test, y_pred_lr)\n",
        "evaluate_model(\"Random Forest\", y_test, y_pred_rf)"
      ],
      "metadata": {
        "colab": {
          "base_uri": "https://localhost:8080/"
        },
        "id": "8cxdrDU3rF6g",
        "outputId": "50dff126-b179-450e-8815-2b49f4cac06a"
      },
      "execution_count": 17,
      "outputs": [
        {
          "output_type": "stream",
          "name": "stdout",
          "text": [
            "Đánh giá mô hình: Logistic Regression\n",
            "Accuracy: 0.7988826815642458\n",
            "Precision: 0.7794117647058824\n",
            "Recall: 0.7162162162162162\n",
            "F1 Score: 0.7464788732394366\n",
            "Confusion Matrix:\n",
            " [[90 15]\n",
            " [21 53]]\n",
            "--------------------------------------------------\n",
            "Đánh giá mô hình: Random Forest\n",
            "Accuracy: 0.8100558659217877\n",
            "Precision: 0.7777777777777778\n",
            "Recall: 0.7567567567567568\n",
            "F1 Score: 0.7671232876712328\n",
            "Confusion Matrix:\n",
            " [[89 16]\n",
            " [18 56]]\n",
            "--------------------------------------------------\n"
          ]
        }
      ]
    },
    {
      "cell_type": "markdown",
      "source": [
        "# Evaluation Charts"
      ],
      "metadata": {
        "id": "CLk2RD-Hxwd4"
      }
    },
    {
      "cell_type": "code",
      "source": [
        "import matplotlib.pyplot as plt\n",
        "import seaborn as sns\n",
        "from sklearn.metrics import confusion_matrix"
      ],
      "metadata": {
        "id": "aWIU45yYx3Hn"
      },
      "execution_count": 18,
      "outputs": []
    },
    {
      "cell_type": "code",
      "source": [
        "def plot_confusion(y_true, y_pred, title=\"Confusion Matrix\"):\n",
        "    cm = confusion_matrix(y_true, y_pred)\n",
        "    plt.figure(figsize=(5,4))\n",
        "    sns.heatmap(cm, annot=True, fmt='d', cmap='Blues')\n",
        "    plt.title(title)\n",
        "    plt.xlabel(\"Predicted\")\n",
        "    plt.ylabel(\"Actual\")\n",
        "    plt.show()"
      ],
      "metadata": {
        "id": "MlqwFGhsx9C4"
      },
      "execution_count": 19,
      "outputs": []
    },
    {
      "cell_type": "code",
      "source": [
        "# Dự đoán xác suất\n",
        "y_proba_lr = logreg_model.predict_proba(X_test)[:, 1]\n",
        "y_proba_rf = rf_model.predict_proba(X_test)[:, 1]"
      ],
      "metadata": {
        "id": "jN_Ej5-ayMbZ"
      },
      "execution_count": 22,
      "outputs": []
    },
    {
      "cell_type": "code",
      "source": [
        "# Confusion Matrix\n",
        "plot_confusion(y_test, y_pred_lr, \"Confusion Matrix - Logistic Regression\")\n",
        "plot_confusion(y_test, y_pred_rf, \"Confusion Matrix - Random Forest\")"
      ],
      "metadata": {
        "id": "FztC7UaayRwY",
        "outputId": "008c4d31-daab-4ccf-fb9c-a7cfd52ce779",
        "colab": {
          "base_uri": "https://localhost:8080/",
          "height": 803
        }
      },
      "execution_count": 24,
      "outputs": [
        {
          "output_type": "display_data",
          "data": {
            "text/plain": [
              "<Figure size 500x400 with 2 Axes>"
            ],
            "image/png": "[encoded data removed]"
          },
          "metadata": {}
        },
        {
          "output_type": "display_data",
          "data": {
            "text/plain": [
              "<Figure size 500x400 with 2 Axes>"
            ],
            "image/png": "[encoded data removed]"
          },
          "metadata": {}
        }
      ]
    },
    {
      "cell_type": "code",
      "source": [
        "# Lưu mô hình tốt nhất\n",
        "joblib.dump(rf_model, \"best_model.pkl\")\n",
        "print(\"Đã lưu mô hình tốt nhất vào best_model.pkl\")"
      ],
      "metadata": {
        "colab": {
          "base_uri": "https://localhost:8080/"
        },
        "id": "YTk1ANrkPWDN",
        "outputId": "dccf0e2a-0421-491f-d747-de610521c192"
      },
      "execution_count": 25,
      "outputs": [
        {
          "output_type": "stream",
          "name": "stdout",
          "text": [
            "Đã lưu mô hình tốt nhất vào best_model.pkl\n"
          ]
        }
      ]
    },
    {
      "cell_type": "code",
      "source": [
        "# Check version Scikit-learn để phục vụ cho việc deloy API model lên Render\n",
        "pip show scikit-learn"
      ],
      "metadata": {
        "id": "0YTI2HwtQW8U",
        "outputId": "c410ea29-2ea5-44e5-b62f-ccbb0f7b3154",
        "colab": {
          "base_uri": "https://localhost:8080/"
        }
      },
      "execution_count": null,
      "outputs": [
        {
          "output_type": "stream",
          "name": "stdout",
          "text": [
            "Name: scikit-learn\n",
            "Version: 1.6.1\n",
            "Summary: A set of python modules for machine learning and data mining\n",
            "Home-page: https://scikit-learn.org\n",
            "Author: \n",
            "Author-email: \n",
            "License: BSD 3-Clause License\n",
            "\n",
            " Copyright (c) 2007-2024 The scikit-learn developers.\n",
            " All rights reserved.\n",
            "\n",
            " Redistribution and use in source and binary forms, with or without\n",
            " modification, are permitted provided that the following conditions are met:\n",
            "\n",
            " * Redistributions of source code must retain the above copyright notice, this\n",
            "   list of conditions and the following disclaimer.\n",
            "\n",
            " * Redistributions in binary form must reproduce the above copyright notice,\n",
            "   this list of conditions and the following disclaimer in the documentation\n",
            "   and/or other materials provided with the distribution.\n",
            "\n",
            " * Neither the name of the copyright holder nor the names of its\n",
            "   contributors may be used to endorse or promote products derived from\n",
            "   this software without specific prior written permission.\n",
            "\n",
            " THIS SOFTWARE IS PROVIDED BY THE COPYRIGHT HOLDERS AND CONTRIBUTORS \"AS IS\"\n",
            " AND ANY EXPRESS OR IMPLIED WARRANTIES, INCLUDING, BUT NOT LIMITED TO, THE\n",
            " IMPLIED WARRANTIES OF MERCHANTABILITY AND FITNESS FOR A PARTICULAR PURPOSE ARE\n",
            " DISCLAIMED. IN NO EVENT SHALL THE COPYRIGHT HOLDER OR CONTRIBUTORS BE LIABLE\n",
            " FOR ANY DIRECT, INDIRECT, INCIDENTAL, SPECIAL, EXEMPLARY, OR CONSEQUENTIAL\n",
            " DAMAGES (INCLUDING, BUT NOT LIMITED TO, PROCUREMENT OF SUBSTITUTE GOODS OR\n",
            " SERVICES; LOSS OF USE, DATA, OR PROFITS; OR BUSINESS INTERRUPTION) HOWEVER\n",
            " CAUSED AND ON ANY THEORY OF LIABILITY, WHETHER IN CONTRACT, STRICT LIABILITY,\n",
            " OR TORT (INCLUDING NEGLIGENCE OR OTHERWISE) ARISING IN ANY WAY OUT OF THE USE\n",
            " OF THIS SOFTWARE, EVEN IF ADVISED OF THE POSSIBILITY OF SUCH DAMAGE.\n",
            "\n",
            " ----\n",
            "\n",
            " This binary distribution of scikit-learn also bundles the following software:\n",
            "\n",
            " ----\n",
            "\n",
            " Name: GCC runtime library\n",
            " Files: scikit_learn.libs/libgomp*.so*\n",
            " Availability: https://gcc.gnu.org/git/?p=gcc.git;a=tree;f=libgomp\n",
            "\n",
            " GCC RUNTIME LIBRARY EXCEPTION\n",
            "\n",
            " Version 3.1, 31 March 2009\n",
            "\n",
            " Copyright (C) 2009 Free Software Foundation, Inc. <http://fsf.org/>\n",
            "\n",
            " Everyone is permitted to copy and distribute verbatim copies of this\n",
            " license document, but changing it is not allowed.\n",
            "\n",
            " This GCC Runtime Library Exception (\"Exception\") is an additional\n",
            " permission under section 7 of the GNU General Public License, version\n",
            " 3 (\"GPLv3\"). It applies to a given file (the \"Runtime Library\") that\n",
            " bears a notice placed by the copyright holder of the file stating that\n",
            " the file is governed by GPLv3 along with this Exception.\n",
            "\n",
            " When you use GCC to compile a program, GCC may combine portions of\n",
            " certain GCC header files and runtime libraries with the compiled\n",
            " program. The purpose of this Exception is to allow compilation of\n",
            " non-GPL (including proprietary) programs to use, in this way, the\n",
            " header files and runtime libraries covered by this Exception.\n",
            "\n",
            " 0. Definitions.\n",
            "\n",
            " A file is an \"Independent Module\" if it either requires the Runtime\n",
            " Library for execution after a Compilation Process, or makes use of an\n",
            " interface provided by the Runtime Library, but is not otherwise based\n",
            " on the Runtime Library.\n",
            "\n",
            " \"GCC\" means a version of the GNU Compiler Collection, with or without\n",
            " modifications, governed by version 3 (or a specified later version) of\n",
            " the GNU General Public License (GPL) with the option of using any\n",
            " subsequent versions published by the FSF.\n",
            "\n",
            " \"GPL-compatible Software\" is software whose conditions of propagation,\n",
            " modification and use would permit combination with GCC in accord with\n",
            " the license of GCC.\n",
            "\n",
            " \"Target Code\" refers to output from any compiler for a real or virtual\n",
            " target processor architecture, in executable form or suitable for\n",
            " input to an assembler, loader, linker and/or execution\n",
            " phase. Notwithstanding that, Target Code does not include data in any\n",
            " format that is used as a compiler intermediate representation, or used\n",
            " for producing a compiler intermediate representation.\n",
            "\n",
            " The \"Compilation Process\" transforms code entirely represented in\n",
            " non-intermediate languages designed for human-written code, and/or in\n",
            " Java Virtual Machine byte code, into Target Code. Thus, for example,\n",
            " use of source code generators and preprocessors need not be considered\n",
            " part of the Compilation Process, since the Compilation Process can be\n",
            " understood as starting with the output of the generators or\n",
            " preprocessors.\n",
            "\n",
            " A Compilation Process is \"Eligible\" if it is done using GCC, alone or\n",
            " with other GPL-compatible software, or if it is done without using any\n",
            " work based on GCC. For example, using non-GPL-compatible Software to\n",
            " optimize any GCC intermediate representations would not qualify as an\n",
            " Eligible Compilation Process.\n",
            "\n",
            " 1. Grant of Additional Permission.\n",
            "\n",
            " You have permission to propagate a work of Target Code formed by\n",
            " combining the Runtime Library with Independent Modules, even if such\n",
            " propagation would otherwise violate the terms of GPLv3, provided that\n",
            " all Target Code was generated by Eligible Compilation Processes. You\n",
            " may then convey such a combination under terms of your choice,\n",
            " consistent with the licensing of the Independent Modules.\n",
            "\n",
            " 2. No Weakening of GCC Copyleft.\n",
            "\n",
            " The availability of this Exception does not imply any general\n",
            " presumption that third-party software is unaffected by the copyleft\n",
            " requirements of the license of GCC.\n",
            "\n",
            "Location: /usr/local/lib/python3.11/dist-packages\n",
            "Requires: joblib, numpy, scipy, threadpoolctl\n",
            "Required-by: fastai, hdbscan, imbalanced-learn, libpysal, librosa, mlxtend, pynndescent, sentence-transformers, shap, sklearn-compat, sklearn-pandas, tsfresh, umap-learn, yellowbrick\n"
          ]
        }
      ]
    }
  ]
}