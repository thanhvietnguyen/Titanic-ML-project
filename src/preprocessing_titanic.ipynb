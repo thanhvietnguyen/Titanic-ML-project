{
  "nbformat": 4,
  "nbformat_minor": 0,
  "metadata": {
    "colab": {
      "provenance": [],
      "gpuType": "T4",
      "authorship_tag": "ABX9TyMYLOPibfHjcs2Qy6wc5/6W",
      "include_colab_link": true
    },
    "kernelspec": {
      "name": "python3",
      "display_name": "Python 3"
    },
    "language_info": {
      "name": "python"
    },
    "accelerator": "GPU"
  },
  "cells": [
    {
      "cell_type": "markdown",
      "metadata": {
        "id": "view-in-github",
        "colab_type": "text"
      },
      "source": [
        "<a href=\"https://colab.research.google.com/github/thanhvietnguyen/Titanic-ML-project/blob/master/src/preprocessing_titanic.ipynb\" target=\"_parent\"><img src=\"https://colab.research.google.com/assets/colab-badge.svg\" alt=\"Open In Colab\"/></a>"
      ]
    },
    {
      "cell_type": "code",
      "execution_count": 1,
      "metadata": {
        "id": "BkAqIPoAYuFz"
      },
      "outputs": [],
      "source": [
        "import pandas as pd\n",
        "import numpy as np\n",
        "from sklearn.impute import SimpleImputer\n",
        "from sklearn.preprocessing import OneHotEncoder, StandardScaler\n",
        "from sklearn.pipeline import Pipeline\n",
        "from sklearn.compose import ColumnTransformer"
      ]
    },
    {
      "cell_type": "code",
      "source": [
        "# Đọc dữ liệu\n",
        "df = pd.read_csv(\"https://raw.githubusercontent.com/thanhvietnguyen/Titanic-ML-project/refs/heads/master/data/train.csv\")"
      ],
      "metadata": {
        "id": "AOWwqXaxbxg0"
      },
      "execution_count": 2,
      "outputs": []
    },
    {
      "cell_type": "code",
      "source": [
        "#1 - Tạo biến đặc trưng mới\n",
        "#Quy mô gia đình = Người thân đi cùng(ace/vc(SibSp) + cha mẹ/con(Parch)) + 1 (bản thân)\n",
        "df['FamilySize'] = df['SibSp'] + df['Parch'] + 1"
      ],
      "metadata": {
        "id": "wNgoi3AicE66"
      },
      "execution_count": 6,
      "outputs": []
    },
    {
      "cell_type": "code",
      "source": [
        "#2 - Xác định biến đầu vào và biến mục tiêu\n",
        "#6 biến đầu vào: Tuổi, Giá vé, Quy mô gia đình, Giới tính, Nơi lên tàu, Hạng vé\n",
        "#Biến mục tiêu: Sống hay chết\n",
        "X = df[[\"Age\", \"Fare\", \"FamilySize\", \"Sex\", \"Embarked\", \"Pclass\"]]\n",
        "y = df[\"Survived\"]"
      ],
      "metadata": {
        "id": "nfncPJJicI7S"
      },
      "execution_count": 7,
      "outputs": []
    },
    {
      "cell_type": "code",
      "source": [
        "#3 - Chia các biến thành nhóm\n",
        "numeric_features = [\"Age\", \"Fare\", \"FamilySize\"]\n",
        "categorical_features = [\"Sex\", \"Embarked\", \"Pclass\"]"
      ],
      "metadata": {
        "id": "pyLvBFTZcO2D"
      },
      "execution_count": 8,
      "outputs": []
    },
    {
      "cell_type": "code",
      "source": [
        "#4 - Pipeline xử lý từng nhóm biến\n",
        "# Pipeline xử lý số: điền thiếu --> chuẩn hóa\n",
        "numeric_pipeline = Pipeline([\n",
        "    ('imputer', SimpleImputer(strategy=\"median\")),\n",
        "    ('scaler', StandardScaler())\n",
        "])"
      ],
      "metadata": {
        "id": "zc6Bvl9wcUFi"
      },
      "execution_count": 9,
      "outputs": []
    },
    {
      "cell_type": "code",
      "source": [
        "# Pipeline xử lý phân loại: điền thiếu --> One-hot encode\n",
        "categorical_pipeline = Pipeline([\n",
        "    ('imputer', SimpleImputer(strategy=\"most_frequent\")),\n",
        "    ('encoder', OneHotEncoder(handle_unknown='ignore'))\n",
        "])"
      ],
      "metadata": {
        "id": "_2aYARNBcbv8"
      },
      "execution_count": 10,
      "outputs": []
    },
    {
      "cell_type": "code",
      "source": [
        "# Kết hợp 2 pipeline lại\n",
        "preprocessor = ColumnTransformer([\n",
        "    ('num', numeric_pipeline, numeric_features),\n",
        "    ('cat', categorical_pipeline, categorical_features)\n",
        "])"
      ],
      "metadata": {
        "id": "HNhC1czqcf7b"
      },
      "execution_count": 11,
      "outputs": []
    }
  ]
}